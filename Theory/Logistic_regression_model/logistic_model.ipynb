{
 "cells": [
  {
   "cell_type": "code",
   "execution_count": 1,
   "id": "6a324e34",
   "metadata": {},
   "outputs": [],
   "source": [
    "import matplotlib.pyplot as plt\n",
    "import numpy as np"
   ]
  },
  {
   "cell_type": "code",
   "execution_count": null,
   "id": "4cadf39a",
   "metadata": {},
   "outputs": [],
   "source": [
    "# khai báo dữ liệu đầu vào\n",
    "x1 = np.array([[6, 8, 9, 10, 9, 5, 8]]).T\n",
    "x2 = np.array([[2, 1, 3, 7, 9, 3, 12]]).T\n",
    "y = np.array([[0, 0, 0, 1, 1, 0, 1]]).T\n",
    "\n",
    "# tạo ma trận X_ngang\n",
    "X = np.concatenate((x1, x2), axis=1)\n",
    "one_matrix = np.ones((X.shape[0], 1))\n",
    "X = np.concatenate((one_matrix, X), axis=1)"
   ]
  },
  {
   "cell_type": "code",
   "execution_count": 3,
   "id": "8c3f2425",
   "metadata": {},
   "outputs": [],
   "source": [
    "# hàm sigmoid\n",
    "def sigmoid(x):\n",
    "    return 1 / (1 + np.exp(-x))"
   ]
  },
  {
   "cell_type": "code",
   "execution_count": 30,
   "id": "b135dfa5",
   "metadata": {},
   "outputs": [],
   "source": [
    "# thiết lập tham số và mảng chứa giá trị hàm loss\n",
    "numiteration = 100\n",
    "learning_rate = 0.1 # tốc độ học\n",
    "threshold = 0.25 # ngưỡng dừng cho vòng lặp"
   ]
  },
  {
   "cell_type": "code",
   "execution_count": 37,
   "id": "1b63a7ba",
   "metadata": {},
   "outputs": [
    {
     "name": "stdout",
     "output_type": "stream",
     "text": [
      "[[-0.48787229]\n",
      " [-1.36316836]\n",
      " [ 2.54833626]]\n",
      "Mô hình hồi quy ligistic: y = sigmoid(-0.49 + -1.36x1 + 2.55x2)\n"
     ]
    }
   ],
   "source": [
    "# hàm gradient\n",
    "def gradient(numiteration, learning_rate, threshold):\n",
    "    # khởi tạo ma trận w\n",
    "    w = np.array([0, 1, 1]).reshape(-1, 1)\n",
    "\n",
    "    # khởi tạo ma trận loss\n",
    "    loss = np.zeros((numiteration, 1))\n",
    "\n",
    "    for i in range(0, numiteration):\n",
    "        y_predict = sigmoid(np.dot(X, w))\n",
    "        loss[i] = -np.sum(np.multiply(y, np.log(y_predict)) + np.multiply(1 - y, np.log(1 - y_predict)))\n",
    "        w = w - learning_rate*np.dot(X.T, (y_predict - y))\n",
    "\n",
    "        if loss[i] <= threshold:\n",
    "            break\n",
    "    # print (y_predict)\n",
    "    return w, loss\n",
    "\n",
    "w, loss = gradient(numiteration, learning_rate, threshold)\n",
    "print (w)\n",
    "# print (loss)\n",
    "print(f\"Mô hình hồi quy ligistic: y = sigmoid({w[0][0]:.2f} + {w[1][0]:.2f}x1 + {w[2][0]:.2f}x2)\")"
   ]
  }
 ],
 "metadata": {
  "kernelspec": {
   "display_name": "Python 3",
   "language": "python",
   "name": "python3"
  },
  "language_info": {
   "codemirror_mode": {
    "name": "ipython",
    "version": 3
   },
   "file_extension": ".py",
   "mimetype": "text/x-python",
   "name": "python",
   "nbconvert_exporter": "python",
   "pygments_lexer": "ipython3",
   "version": "3.12.6"
  }
 },
 "nbformat": 4,
 "nbformat_minor": 5
}
