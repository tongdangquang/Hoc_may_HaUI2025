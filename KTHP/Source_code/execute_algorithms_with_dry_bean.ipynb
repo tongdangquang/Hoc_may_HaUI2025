{
 "cells": [
  {
   "cell_type": "code",
   "execution_count": 1,
   "id": "5bc41bbe",
   "metadata": {},
   "outputs": [],
   "source": [
    "import numpy as np\n",
    "import pandas as pd\n",
    "import time\n",
    "from sklearn.cluster import KMeans\n",
    "from sklearn.preprocessing import StandardScaler\n",
    "from sklearn.metrics import davies_bouldin_score\n",
    "from algorithm import *"
   ]
  },
  {
   "cell_type": "code",
   "execution_count": 2,
   "id": "abb18371",
   "metadata": {},
   "outputs": [],
   "source": [
    "def partition_coefficient(membership_matrix):\n",
    "    return np.sum(membership_matrix ** 2) / membership_matrix.shape[0]\n",
    "\n",
    "def euclidean(a, b):\n",
    "    return np.linalg.norm(a - b)\n",
    "\n",
    "def dunn_index(data, labels, centers):\n",
    "    n_clusters = len(np.unique(labels))\n",
    "    inter_cluster = [\n",
    "        euclidean(centers[i], centers[j])\n",
    "        for i in range(n_clusters) for j in range(i+1, n_clusters)\n",
    "    ]\n",
    "    min_inter = np.min(inter_cluster) if inter_cluster else 0\n",
    "\n",
    "    max_intra = 0\n",
    "    for i in range(n_clusters):\n",
    "        cluster_points = data[labels == i]\n",
    "        if len(cluster_points) > 1:\n",
    "            dists = [euclidean(p1, p2) for p1 in cluster_points for p2 in cluster_points]\n",
    "            max_intra = max(max_intra, max(dists))\n",
    "    return min_inter / max_intra if max_intra != 0 else 0"
   ]
  },
  {
   "cell_type": "code",
   "execution_count": null,
   "id": "50779fc9",
   "metadata": {},
   "outputs": [],
   "source": [
    "def kmeans_algo(data, num_clusters=3, max_iter=300):\n",
    "    if isinstance(data, pd.DataFrame):\n",
    "        data = data.values\n",
    "\n",
    "    scaler = StandardScaler()\n",
    "    scaled_data = scaler.fit_transform(data)\n",
    "\n",
    "    start = time.time()\n",
    "    kmeans = KMeans(n_clusters=num_clusters, max_iter=max_iter, random_state=42)\n",
    "    labels = kmeans.fit_predict(scaled_data)\n",
    "    end = time.time()\n",
    "\n",
    "    # Membership matrix (1-hot)\n",
    "    n_samples = len(data)\n",
    "    membership = np.zeros((n_samples, num_clusters))\n",
    "    membership[np.arange(n_samples), labels] = 1\n",
    "\n",
    "    # Tính chỉ số\n",
    "    db = round(davies_bouldin_score(scaled_data, labels), 5)\n",
    "    pc = round(partition_coefficient(membership), 5)\n",
    "    di = round(dunn_index(scaled_data, labels, kmeans.cluster_centers_), 5)\n",
    "    exec_time = round(end - start, 5)\n",
    "    iters = kmeans.n_iter_\n",
    "\n",
    "    result_df = pd.DataFrame([['KMEANS', iters, exec_time, db, pc, di]],\n",
    "                             columns=[\"Algo\", \"Iters\", \"Time\", \"DB\", \"PC\", \"DI\"])\n",
    "    return result_df"
   ]
  },
  {
   "cell_type": "code",
   "execution_count": null,
   "id": "1c4d85ca",
   "metadata": {},
   "outputs": [],
   "source": [
    "def model(data: np.ndarray, max_iter, num_of_clus, algos_name, result_name=None):\n",
    "    np.random.seed(42)\n",
    "    import time\n",
    "    start = time.time()\n",
    "    \n",
    "    algo = use(algos_name, data=data, max_iter=max_iter, num_of_clus=num_of_clus)\n",
    "    end = time.time()\n",
    "    \n",
    "    if algos_name == 'pcm':\n",
    "        return validity2(data=data, membership=algo.t, time=end-start, iteration=algo.i, algo_name=algos_name)\n",
    "    else:\n",
    "        return validity2(data=data, membership=algo.u, time=end-start, iteration=algo.i, algo_name=algos_name)"
   ]
  },
  {
   "cell_type": "code",
   "execution_count": null,
   "id": "f7c4492d",
   "metadata": {},
   "outputs": [
    {
     "name": "stdout",
     "output_type": "stream",
     "text": [
      "     Algo  Iters      Time       DB       PC       DI\n",
      "0  KMEANS     18   0.02000  1.18188  1.00000  0.13070\n",
      "1     FCM    176   2.55500  0.50025  0.68700  0.00017\n",
      "2     PCM    483   7.18818  4.13952  0.34806  0.00006\n",
      "3    PFCM    133  10.24688  0.49991  0.47928  0.00006\n"
     ]
    }
   ],
   "source": [
    "tmp=pd.read_csv(\"Dry_Bean_Dataset_cleaned.csv\")\n",
    "data, target=np.array(tmp.iloc[:, 0:15]), pd.factorize(np.array(tmp.iloc[:,15]))[0]\n",
    "\n",
    "kmeans = kmeans_algo(data, num_clusters=7, max_iter=1000)\n",
    "df_fcm = model(data=data, max_iter=1000, num_of_clus=7, algos_name='fcm')\n",
    "df_pcm = model(data=data, max_iter=1000, num_of_clus=7, algos_name='pcm')\n",
    "df_pfcm = model(data=data, max_iter=1000, num_of_clus=7, algos_name='pfcm')\n",
    "\n",
    "# gộp và in một lần\n",
    "final_df = pd.concat([kmeans, df_fcm, df_pcm, df_pfcm], ignore_index=True)\n",
    "print(final_df)"
   ]
  }
 ],
 "metadata": {
  "kernelspec": {
   "display_name": "Python 3",
   "language": "python",
   "name": "python3"
  },
  "language_info": {
   "codemirror_mode": {
    "name": "ipython",
    "version": 3
   },
   "file_extension": ".py",
   "mimetype": "text/x-python",
   "name": "python",
   "nbconvert_exporter": "python",
   "pygments_lexer": "ipython3",
   "version": "3.12.6"
  }
 },
 "nbformat": 4,
 "nbformat_minor": 5
}
